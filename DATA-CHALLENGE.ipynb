{
 "cells": [
  {
   "cell_type": "markdown",
   "id": "d2786b78-11ad-47e4-b86a-468381a4f7e6",
   "metadata": {},
   "source": [
    "### DATA ANALYTICS AND ANACONDA SET UP (DAY 1)"
   ]
  },
  {
   "cell_type": "markdown",
   "id": "1ffdcf74-a741-4376-a9ab-913dd5069489",
   "metadata": {},
   "source": [
    "### PYTHON FUNDAMENTAL (DAY 2)"
   ]
  },
  {
   "cell_type": "code",
   "execution_count": 12,
   "id": "0e95a32b-450a-4821-8b5e-17f2e861c5fb",
   "metadata": {},
   "outputs": [],
   "source": [
    "# Introduction Script in Python\n",
    "# Defining variables\n",
    "name = \"Chika Chukwu\"\n",
    "age = 25\n",
    "height = 5.4\n",
    "is_a_dataanalyst = True\n",
    "hobbies = [\"reading\", \"watching movies\", \"games\"]\n",
    "address = {\n",
    "    \"street\": \"11 Dracula Street\",\n",
    "    \"city\": \"Ikeja\",\n",
    "    \"state\": \"Lagos\",\n",
    "}\n",
    "languages_spoken = (\"English\",\"Igbo\")  "
   ]
  },
  {
   "cell_type": "code",
   "execution_count": 13,
   "id": "0a3e617d-ba24-4629-8ab1-dfc84a561483",
   "metadata": {},
   "outputs": [
    {
     "name": "stdout",
     "output_type": "stream",
     "text": [
      "Hello! My name is Chika Chukwu\n",
      "I am 25 years old and 5.4 feet tall.\n",
      "I am a Data Analyst.\n",
      "My hobbies are: ['reading', 'watching movies', 'games']\n",
      "You can find me at: 11 Dracula Street , Ikeja , Lagos\n",
      "I speak the following languages ('English', 'Igbo')\n"
     ]
    }
   ],
   "source": [
    "# Printing introduction with variables\n",
    "print(\"Hello! My name is\", name)\n",
    "print(\"I am\", age, \"years old and\", height, \"feet tall.\")\n",
    "if is_a_dataanalyst:\n",
    "    print(\"I am a Data Analyst.\")\n",
    "else:\n",
    "    print(\"I am not a Data Analysts\")\n",
    "print(\"My hobbies are:\", hobbies)\n",
    "print(\"You can find me at:\", address[\"street\"], \",\", address[\"city\"], \",\", address[\"state\"])\n",
    "print(\"I speak the following languages\",languages_spoken)"
   ]
  },
  {
   "cell_type": "markdown",
   "id": "b3b31da4-ceda-40f7-b1d3-0d1ccc25d200",
   "metadata": {},
   "source": [
    "### DATA TYPES (DAY 3)"
   ]
  },
  {
   "cell_type": "code",
   "execution_count": null,
   "id": "f537d42e-c307-4c93-8fa8-115258b00a94",
   "metadata": {},
   "outputs": [],
   "source": [
    "#Expressions in Python "
   ]
  },
  {
   "cell_type": "code",
   "execution_count": 12,
   "id": "e2ca75c5-37c6-4bca-a995-920fd6aab176",
   "metadata": {},
   "outputs": [],
   "source": [
    "# Define variables with different data types\n",
    "integer_var = 42  # Integer data type\n",
    "float_var = 3.14  # Float data type\n",
    "string_var = \"Hello Beautiful,\"  # String data type\n",
    "bool_var = True  # Boolean data type\n",
    "list_var = [1, 2, 3, 4, 5]  # List data type\n",
    "tuple_var = (1, 2, 3)  # Tuple data type\n",
    "dictionary_var = {\"name\": \"Chika\", \"age\": \"25\",}  # Dictionary data type"
   ]
  },
  {
   "cell_type": "code",
   "execution_count": 13,
   "id": "80e1fcaf-5a21-46d6-9cc3-fc6661c5d367",
   "metadata": {},
   "outputs": [],
   "source": [
    "# Expressions using different data types\n",
    "addition = integer_var + float_var  # Adding an integer and a float-(Arithmetic Expression)\n",
    "concatenation = string_var + \" You Look Amazing!!!\"  # Concatenating two strings-(Arithmetic Expression) \n",
    "logical = bool_var and False  # Performing logical AND operation-(Logical Expression)\n",
    "list_indexing = list_var[2]  # Accessing element at index 2 in the list-(Indexing Expression)\n",
    "tuple_unpacking = tuple_var[0]  # Unpacking first element from the tuple-(Indexing Expression)\n",
    "dictionary_access = dictionary_var[\"name\"] # Accessing value by key \"name\" from dictionary-(Dictionary Access Expression)"
   ]
  },
  {
   "cell_type": "code",
   "execution_count": 14,
   "id": "cfceb58d-2a42-4690-b5fb-dbcc29fc762a",
   "metadata": {},
   "outputs": [
    {
     "name": "stdout",
     "output_type": "stream",
     "text": [
      "Addition: 45.14\n",
      "Concatenation: Hello Beautiful, You Look Amazing!!!\n",
      "Logical: False\n",
      "List Indexing: 3\n",
      "Tuple Unpacking: 1\n",
      "Dictionary Access: Chika\n"
     ]
    }
   ],
   "source": [
    "# Print the results\n",
    "print(\"Addition:\", addition)\n",
    "print(\"Concatenation:\", concatenation)\n",
    "print(\"Logical:\", logical)\n",
    "print(\"List Indexing:\", list_indexing)\n",
    "print(\"Tuple Unpacking:\", tuple_unpacking)\n",
    "print(\"Dictionary Access:\", dictionary_access)"
   ]
  },
  {
   "cell_type": "markdown",
   "id": "1295b674-5af8-4186-b5ce-4279a770e4e3",
   "metadata": {},
   "source": [
    "### STRING OPERATIONS AND METHOD (DAY 4)"
   ]
  },
  {
   "cell_type": "code",
   "execution_count": 2,
   "id": "454ec813-d8dd-403e-8e1d-afcee0fbbaba",
   "metadata": {},
   "outputs": [
    {
     "name": "stdout",
     "output_type": "stream",
     "text": [
      "Hello Beautiful People\n"
     ]
    }
   ],
   "source": [
    "# ### Basic String Operations\n",
    "# Concatenation\n",
    "hello = \"Hello\"\n",
    "beautiful = \"Beautiful\"\n",
    "people = \"People\"\n",
    "hello_people = hello + \" \" + beautiful + \" \" + people\n",
    "print(hello_people)"
   ]
  },
  {
   "cell_type": "code",
   "execution_count": 3,
   "id": "f19f91f5-3154-4263-8be6-9cd18fbc5e97",
   "metadata": {},
   "outputs": [
    {
     "name": "stdout",
     "output_type": "stream",
     "text": [
      "HaHaHa\n"
     ]
    }
   ],
   "source": [
    "# Repetition\n",
    "laugh = \"Ha\" * 3\n",
    "print(laugh)"
   ]
  },
  {
   "cell_type": "code",
   "execution_count": 4,
   "id": "1e1b1583-ac07-4176-932c-aa59bd2aad7a",
   "metadata": {},
   "outputs": [
    {
     "name": "stdout",
     "output_type": "stream",
     "text": [
      "Hell\n"
     ]
    }
   ],
   "source": [
    "# Slicing\n",
    "first_four = hello[0:4]\n",
    "print(first_four)"
   ]
  },
  {
   "cell_type": "code",
   "execution_count": 10,
   "id": "eaaa559a-bba9-4771-9550-5e0c68de0dd2",
   "metadata": {},
   "outputs": [
    {
     "name": "stdout",
     "output_type": "stream",
     "text": [
      "22\n"
     ]
    }
   ],
   "source": [
    "# Length\n",
    "length = len(hello_people)\n",
    "print(length)"
   ]
  },
  {
   "cell_type": "code",
   "execution_count": 49,
   "id": "dda7a05b-85f2-45a7-8064-9be9c59ebe97",
   "metadata": {},
   "outputs": [
    {
     "name": "stdout",
     "output_type": "stream",
     "text": [
      "Hello, Beautiful!\n"
     ]
    }
   ],
   "source": [
    "### Common String Methods\n",
    "s = \"Hello, Beautiful!\"\n",
    "print(s)"
   ]
  },
  {
   "cell_type": "code",
   "execution_count": 50,
   "id": "87486d43-d014-47df-b1ad-f25fc19e291c",
   "metadata": {},
   "outputs": [
    {
     "name": "stdout",
     "output_type": "stream",
     "text": [
      "Hello, beautiful!\n"
     ]
    }
   ],
   "source": [
    "# Capitalize\n",
    "capitalized = s.capitalize()\n",
    "print(capitalized)"
   ]
  },
  {
   "cell_type": "code",
   "execution_count": 51,
   "id": "6e8b5b7d-2727-4f6a-b233-2216f4f632a1",
   "metadata": {},
   "outputs": [
    {
     "name": "stdout",
     "output_type": "stream",
     "text": [
      "HELLO, BEAUTIFUL!\n",
      "hello, beautiful!\n"
     ]
    }
   ],
   "source": [
    "# Upper and lower case\n",
    "upper_case = s.upper()\n",
    "lower_case = s.lower()\n",
    "print(upper_case)\n",
    "print(lower_case)"
   ]
  },
  {
   "cell_type": "code",
   "execution_count": 52,
   "id": "33d9b542-4ca6-48f3-85f2-81f488cdfbd6",
   "metadata": {},
   "outputs": [
    {
     "name": "stdout",
     "output_type": "stream",
     "text": [
      "7\n"
     ]
    }
   ],
   "source": [
    "# Find\n",
    "position = s.find(\"Beautiful\")\n",
    "print(position)"
   ]
  },
  {
   "cell_type": "code",
   "execution_count": 53,
   "id": "ca9f7219-aa5c-4bc6-b6b0-7c84697f2a8b",
   "metadata": {},
   "outputs": [
    {
     "name": "stdout",
     "output_type": "stream",
     "text": [
      "Hello, Beautiful!\n"
     ]
    }
   ],
   "source": [
    "# Replace\n",
    "new_string = s.replace(\"Python\", \"World\")\n",
    "print(new_string)"
   ]
  },
  {
   "cell_type": "markdown",
   "id": "1f1f4b8f-8345-4373-88dc-22ee059e8e33",
   "metadata": {},
   "source": [
    "### DATA STRUCTURES (LIST, TUPLES, DICTIONARY, SET) (DAY 5)"
   ]
  },
  {
   "cell_type": "code",
   "execution_count": 1,
   "id": "2da65c86-8f07-4a88-9516-3c72e0fd0a31",
   "metadata": {},
   "outputs": [
    {
     "name": "stdout",
     "output_type": "stream",
     "text": [
      "[1000, 1200, 1300, 1100, 1500, 1400, 1600]\n"
     ]
    }
   ],
   "source": [
    "# List\n",
    "# Storing a list of daily sales figures for a store.\n",
    "daily_sales = [1000, 1200, 1300, 1100, 1500, 1400, 1600]\n",
    "print(daily_sales)"
   ]
  },
  {
   "cell_type": "code",
   "execution_count": 2,
   "id": "0aa71745-a4b4-4467-90e9-357ac5b436ec",
   "metadata": {},
   "outputs": [
    {
     "name": "stdout",
     "output_type": "stream",
     "text": [
      "((1, 2), (3, 4), (5, 6), (7, 8))\n"
     ]
    }
   ],
   "source": [
    "# Tuples\n",
    "# Storing coordinates of data points in a 2D space.\n",
    "data_points = ((1, 2), (3, 4), (5, 6), (7, 8))\n",
    "print(data_points)"
   ]
  },
  {
   "cell_type": "code",
   "execution_count": 10,
   "id": "15c581f3-499f-42fc-9702-abdd0fe1596f",
   "metadata": {},
   "outputs": [
    {
     "name": "stdout",
     "output_type": "stream",
     "text": [
      "{'name': 'Alice', 'age': 30, 'gender': 'female', 'city': 'New York'}\n"
     ]
    }
   ],
   "source": [
    "# Dictionaries\n",
    "# Storing information about customers in a database.\n",
    "customer = {\n",
    "    'name': 'Alice',\n",
    "    'age': 30,\n",
    "    'gender': 'female',\n",
    "    'city': 'New York'\n",
    "}\n",
    "print(customer)"
   ]
  },
  {
   "cell_type": "code",
   "execution_count": 5,
   "id": "acf5a828-2dda-4e7e-ad83-46b88a1bafd5",
   "metadata": {},
   "outputs": [
    {
     "name": "stdout",
     "output_type": "stream",
     "text": [
      "{'Jewelries', 'Clothing', 'Skincare', 'Cosmetics', 'Electronics'}\n"
     ]
    }
   ],
   "source": [
    "# Sets\n",
    "# Storing unique values of different product categories.\n",
    "product_category = {'Clothing', 'Electronics', 'Cosmetics', 'Skincare', 'Jewelries','Electronics','Clothing'}\n",
    "print(product_category)"
   ]
  },
  {
   "cell_type": "markdown",
   "id": "1ded4f28-464d-4925-80fd-94bf2957acd2",
   "metadata": {},
   "source": [
    "### OPERATORS AND CONTROL STRUCTURES: LOOPS AND DECISIONS (DAY 6)"
   ]
  },
  {
   "cell_type": "code",
   "execution_count": null,
   "id": "edb1de69-497a-4384-b4b2-8de2c1c14a5f",
   "metadata": {},
   "outputs": [],
   "source": [
    "## Control Structures in Python\n",
    "\n",
    "Control structures in Python are used to control the flow of execution of the program. This includes conditional statements and loops.\n",
    "\n",
    "### If Statement\n",
    "The `if` statement is used for conditional execution.\n",
    "\n",
    "\n",
    "x = 10\n",
    "if x > 5:\n",
    "    print(\"x is greater than 5\")\n",
    "\n",
    "\n",
    "### While Loop\n",
    "The `while` loop in Python is used for repeated execution as long as an expression is true.\n",
    "\n",
    "\n",
    "count = 0\n",
    "while count < 5:\n",
    "    print(count)\n",
    "    count += 1\n",
    "\n",
    "\n",
    "### For Loop\n",
    "The `for` loop in Python is used for iterating over a sequence (list, tuple, string, etc.)\n",
    "\n",
    "\n",
    "for i in range(5):\n",
    "    print(i)\n",
    "\n"
   ]
  },
  {
   "cell_type": "markdown",
   "id": "ad337d25-8d91-4041-b5a6-a5b548d1ddd4",
   "metadata": {},
   "source": [
    "#### Problem: Determining the Eligibility for a Scholarship Based on Grades\n",
    "Description:\n",
    "A university wants to determine which students are eligible for a scholarship based on their grades. \n",
    "The scholarship criteria state that a student must have an average grade of 85 or above and no grade below 70. \n",
    "We will write a Python program to check a list of students' grades and determine their eligibility.\n",
    "\n",
    "Solution:\n",
    "We'll use a dictionary to store students' names as keys and their list of grades as values. \n",
    "Then, we'll use loops and if-else statements to calculate each student's average grade and check if they meet the criteria for the scholarship\n"
   ]
  },
  {
   "cell_type": "code",
   "execution_count": 5,
   "id": "fddee698-3076-4e12-a551-ce3d4dee3153",
   "metadata": {},
   "outputs": [
    {
     "name": "stdout",
     "output_type": "stream",
     "text": [
      "Alice is eligible for the scholarship with an average grade of 86.60.\n",
      "Bob is not eligible for the scholarship. Average grade: 80.00.\n",
      "Charlie is eligible for the scholarship with an average grade of 88.80.\n",
      "David is not eligible for the scholarship. Average grade: 69.80.\n",
      "Eve is eligible for the scholarship with an average grade of 88.20.\n"
     ]
    }
   ],
   "source": [
    "# Dictionary of students' names and their list of grades\n",
    "students_grades = {\n",
    "    \"Alice\": [88, 92, 85, 78, 90],\n",
    "    \"Bob\": [75, 80, 79, 82, 84],\n",
    "    \"Charlie\": [90, 85, 87, 93, 89],\n",
    "    \"David\": [65, 70, 72, 68, 74],\n",
    "    \"Eve\": [88, 91, 85, 87, 90]\n",
    "}\n",
    "\n",
    "# Scholarship criteria\n",
    "min_average = 85\n",
    "min_grade = 70\n",
    "\n",
    "# Check each student's eligibility\n",
    "for student, grades in students_grades.items():\n",
    "    # Calculate average grade\n",
    "    average_grade = sum(grades) / len(grades)\n",
    "    \n",
    "    # Check if the student meets the criteria\n",
    "    if average_grade >= min_average and all(grade >= min_grade for grade in grades):\n",
    "        print(f\"{student} is eligible for the scholarship with an average grade of {average_grade:.2f}.\")\n",
    "    else:\n",
    "        print(f\"{student} is not eligible for the scholarship. Average grade: {average_grade:.2f}.\")\n"
   ]
  },
  {
   "cell_type": "markdown",
   "id": "3a591abb-1399-4e5a-9d93-d1116854b5dd",
   "metadata": {},
   "source": [
    "## Error Processing, Exception Raising and Handling ( DAY 7) "
   ]
  },
  {
   "cell_type": "markdown",
   "id": "50380eac-ae77-4502-95e1-752897516a47",
   "metadata": {},
   "source": [
    "#### Looking at Specific Examples of these Types of Errors:"
   ]
  },
  {
   "cell_type": "code",
   "execution_count": 1,
   "id": "f2e70231-cd70-420b-bbef-c690fd290f4d",
   "metadata": {},
   "outputs": [
    {
     "ename": "SyntaxError",
     "evalue": "incomplete input (4013463004.py, line 4)",
     "output_type": "error",
     "traceback": [
      "\u001b[1;36m  Cell \u001b[1;32mIn[1], line 4\u001b[1;36m\u001b[0m\n\u001b[1;33m    \u001b[0m\n\u001b[1;37m    ^\u001b[0m\n\u001b[1;31mSyntaxError\u001b[0m\u001b[1;31m:\u001b[0m incomplete input\n"
     ]
    }
   ],
   "source": [
    "# Syntax error\n",
    "\n",
    "print(\"Hello\"  # Missing closing parenthesis\n",
    " "
   ]
  },
  {
   "cell_type": "code",
   "execution_count": 2,
   "id": "30afffc5-7d67-4ce7-9e87-d6df0f9b5569",
   "metadata": {},
   "outputs": [
    {
     "ename": "TypeError",
     "evalue": "can only concatenate str (not \"int\") to str",
     "output_type": "error",
     "traceback": [
      "\u001b[1;31m---------------------------------------------------------------------------\u001b[0m",
      "\u001b[1;31mTypeError\u001b[0m                                 Traceback (most recent call last)",
      "Cell \u001b[1;32mIn[2], line 4\u001b[0m\n\u001b[0;32m      1\u001b[0m \u001b[38;5;66;03m# Type error\u001b[39;00m\n\u001b[0;32m      3\u001b[0m num \u001b[38;5;241m=\u001b[39m \u001b[38;5;241m5\u001b[39m\n\u001b[1;32m----> 4\u001b[0m \u001b[38;5;28mprint\u001b[39m(\u001b[38;5;124m\"\u001b[39m\u001b[38;5;124mNumber: \u001b[39m\u001b[38;5;124m\"\u001b[39m \u001b[38;5;241m+\u001b[39m num)\n",
      "\u001b[1;31mTypeError\u001b[0m: can only concatenate str (not \"int\") to str"
     ]
    }
   ],
   "source": [
    "# Type error\n",
    "\n",
    "num = 5\n",
    "print(\"Number: \" + num)  # Trying to concatenate a string with an integer"
   ]
  },
  {
   "cell_type": "code",
   "execution_count": 3,
   "id": "fcbbf035-ad05-42a0-982b-2c2d6abc3f3c",
   "metadata": {},
   "outputs": [
    {
     "ename": "NameError",
     "evalue": "name 'x' is not defined",
     "output_type": "error",
     "traceback": [
      "\u001b[1;31m---------------------------------------------------------------------------\u001b[0m",
      "\u001b[1;31mNameError\u001b[0m                                 Traceback (most recent call last)",
      "Cell \u001b[1;32mIn[3], line 3\u001b[0m\n\u001b[0;32m      1\u001b[0m \u001b[38;5;66;03m# Name Error\u001b[39;00m\n\u001b[1;32m----> 3\u001b[0m \u001b[38;5;28mprint\u001b[39m(x)\n",
      "\u001b[1;31mNameError\u001b[0m: name 'x' is not defined"
     ]
    }
   ],
   "source": [
    "\n",
    "# Name Error\n",
    "\n",
    "print(x)  # Variable x is not defined"
   ]
  },
  {
   "cell_type": "code",
   "execution_count": 4,
   "id": "92662f89-b677-4655-a95e-0d0f76dc97b5",
   "metadata": {},
   "outputs": [
    {
     "ename": "ValueError",
     "evalue": "invalid literal for int() with base 10: 'abc'",
     "output_type": "error",
     "traceback": [
      "\u001b[1;31m---------------------------------------------------------------------------\u001b[0m",
      "\u001b[1;31mValueError\u001b[0m                                Traceback (most recent call last)",
      "Cell \u001b[1;32mIn[4], line 2\u001b[0m\n\u001b[0;32m      1\u001b[0m \u001b[38;5;66;03m# Value Error\u001b[39;00m\n\u001b[1;32m----> 2\u001b[0m \u001b[38;5;28mint\u001b[39m(\u001b[38;5;124m\"\u001b[39m\u001b[38;5;124mabc\u001b[39m\u001b[38;5;124m\"\u001b[39m)\n",
      "\u001b[1;31mValueError\u001b[0m: invalid literal for int() with base 10: 'abc'"
     ]
    }
   ],
   "source": [
    "# Value Error\n",
    "int(\"abc\")  # Converting a string that cannot be converted to an integer"
   ]
  },
  {
   "cell_type": "code",
   "execution_count": 5,
   "id": "92ade4cc-5667-43b0-80c1-8073a3c6f52f",
   "metadata": {},
   "outputs": [
    {
     "ename": "IndexError",
     "evalue": "list index out of range",
     "output_type": "error",
     "traceback": [
      "\u001b[1;31m---------------------------------------------------------------------------\u001b[0m",
      "\u001b[1;31mIndexError\u001b[0m                                Traceback (most recent call last)",
      "Cell \u001b[1;32mIn[5], line 3\u001b[0m\n\u001b[0;32m      1\u001b[0m \u001b[38;5;66;03m# Index Error \u001b[39;00m\n\u001b[0;32m      2\u001b[0m my_list \u001b[38;5;241m=\u001b[39m [\u001b[38;5;241m1\u001b[39m, \u001b[38;5;241m2\u001b[39m, \u001b[38;5;241m3\u001b[39m]\n\u001b[1;32m----> 3\u001b[0m \u001b[38;5;28mprint\u001b[39m(my_list[\u001b[38;5;241m3\u001b[39m])\n",
      "\u001b[1;31mIndexError\u001b[0m: list index out of range"
     ]
    }
   ],
   "source": [
    "# Index Error \n",
    "my_list = [1, 2, 3]\n",
    "print(my_list[3])  # Accessing an index that is out of range"
   ]
  },
  {
   "cell_type": "code",
   "execution_count": 6,
   "id": "a0cc8a54-3b01-4e79-9989-975a75693408",
   "metadata": {},
   "outputs": [
    {
     "ename": "ZeroDivisionError",
     "evalue": "division by zero",
     "output_type": "error",
     "traceback": [
      "\u001b[1;31m---------------------------------------------------------------------------\u001b[0m",
      "\u001b[1;31mZeroDivisionError\u001b[0m                         Traceback (most recent call last)",
      "Cell \u001b[1;32mIn[6], line 2\u001b[0m\n\u001b[0;32m      1\u001b[0m \u001b[38;5;66;03m# Zero Division Error\u001b[39;00m\n\u001b[1;32m----> 2\u001b[0m result \u001b[38;5;241m=\u001b[39m \u001b[38;5;241m10\u001b[39m \u001b[38;5;241m/\u001b[39m \u001b[38;5;241m0\u001b[39m\n",
      "\u001b[1;31mZeroDivisionError\u001b[0m: division by zero"
     ]
    }
   ],
   "source": [
    "# Zero Division Error\n",
    "result = 10 / 0  # Dividing by zero"
   ]
  },
  {
   "cell_type": "markdown",
   "id": "1e8a25ec-f3b7-4c66-86b4-e95ea14a1fe0",
   "metadata": {},
   "source": [
    "### Error Handling in Practice\n",
    "\n",
    "The *`try...except`* block is used to handle exceptions in Python. Here's the syntax of try...except block:\n",
    "\n",
    "\n"
   ]
  },
  {
   "cell_type": "code",
   "execution_count": null,
   "id": "89c4d3ef-bcdb-4fc4-a166-be6b67225dee",
   "metadata": {},
   "outputs": [],
   "source": [
    "try:\n",
    "    # code that may cause exception\n",
    "    \n",
    "except:  \n",
    "    # code to run when exception occurs"
   ]
  },
  {
   "cell_type": "code",
   "execution_count": 10,
   "id": "a5b32456-1bff-4588-8d18-31c43c93f269",
   "metadata": {},
   "outputs": [
    {
     "name": "stdout",
     "output_type": "stream",
     "text": [
      "File not found. Please make sure the file exists.\n"
     ]
    }
   ],
   "source": [
    "# Intentionally introducing an error by trying to perform an operation that does not apply to the file's content\n",
    "try:\n",
    "    # Open a file (intentionally non-existent for this example)\n",
    "    with open(\"non_existent_file.txt\", \"r\") as file:\n",
    "        # Attempt to read the content of the file\n",
    "        content = file.read()\n",
    "        \n",
    "        # perform an operation that does not apply to the file's content\n",
    "        # In this case, we're trying to split the content by a comma, assuming it's CSV data\n",
    "        # However, since the file doesn't exist, the content will be an empty string, and splitting it will raise an error\n",
    "        data = content.split(',')\n",
    "        \n",
    "        # Print the data\n",
    "        print(data)\n",
    "\n",
    "# Handle the FileNotFoundError exception\n",
    "except FileNotFoundError:\n",
    "    # If the file is not found, print an error message\n",
    "    print(\"File not found. Please make sure the file exists.\")\n",
    "\n",
    "# Handle any other exceptions\n",
    "except Exception as e:\n",
    "    # If any other error occurs, print the error message\n",
    "    print(\"An error occurred:\", e)\n"
   ]
  },
  {
   "cell_type": "markdown",
   "id": "5ebf1aab-2dce-47cf-bcec-23deb9de3d7d",
   "metadata": {},
   "source": [
    "### FUNCTIONS AND MODULES ( DAY 8) "
   ]
  },
  {
   "cell_type": "code",
   "execution_count": 10,
   "id": "e26a9d45-804f-4bec-be50-35bc6af61522",
   "metadata": {},
   "outputs": [
    {
     "name": "stdout",
     "output_type": "stream",
     "text": [
      "Hello, Alice\n"
     ]
    }
   ],
   "source": [
    "#DEFINING FUNCTION\n",
    "\n",
    "def greet(name):\n",
    "    # Concatenating \"Hello, \" with the provided name parameter\n",
    "    return \"Hello, \" + name\n",
    "\n",
    "# Calling the greet function with the argument \"Alice\" and printing the result\n",
    "print(greet(\"Alice\"))"
   ]
  },
  {
   "cell_type": "code",
   "execution_count": 23,
   "id": "1ceff79b-e93c-4a37-81bc-8f674cd963c8",
   "metadata": {},
   "outputs": [
    {
     "name": "stdout",
     "output_type": "stream",
     "text": [
      "Congratulations!!! Chika Chukwu\n"
     ]
    }
   ],
   "source": [
    "def uppercase(name):\n",
    "    # Concatenating \"Hello, \" with the provided name parameter\n",
    "    return \"Congratulations!!! \" + name\n",
    "    \n",
    "   # Calling the uppercase function with the argument and printing the result \n",
    "print(uppercase(\"Chika\" + \" \" + \"Chukwu\"))"
   ]
  },
  {
   "cell_type": "code",
   "execution_count": 36,
   "id": "7c307c16-9669-4a78-9e3a-d8f604eeaead",
   "metadata": {},
   "outputs": [
    {
     "name": "stdout",
     "output_type": "stream",
     "text": [
      "Chika favorite ice cream Flavors are, Chocolate, Cookies and Cream, and Peanut butter\n"
     ]
    }
   ],
   "source": [
    "def add_flavor(name):\n",
    "    # Concatenating the provided name with a list of ice cream flavors\n",
    "    flavors = ['Chocolate', 'Cookies and Cream','and Peanut butter']\n",
    "    return name + ', '.join(flavors)\n",
    "\n",
    "# Calling the add_flavor function with the argument and printing the result \n",
    "print(add_flavor(\"Chika\"+ \" \" + \"favorite ice cream Flavors\" + \" \" + \"are,\"+ \" \"))\n"
   ]
  },
  {
   "cell_type": "markdown",
   "id": "af65e553-4c7d-40e5-abc5-07857c8a03d1",
   "metadata": {},
   "source": [
    "### FILE HANDLING AND DATA INPUT/OUTPUT ( DAY 9)"
   ]
  },
  {
   "cell_type": "code",
   "execution_count": 19,
   "id": "c9719116-ca6e-4f36-89a6-e9fa47aff008",
   "metadata": {},
   "outputs": [
    {
     "name": "stdout",
     "output_type": "stream",
     "text": [
      "File read successfully.\n",
      "Analysis performed successfully.\n",
      "Analysis results saved to C:\\Users\\USER\\OneDrive\\Documents\\analysis_results.csv\n"
     ]
    }
   ],
   "source": [
    "\n",
    "# Import python libraries\n",
    "import pandas as pd\n",
    "import numpy as np\n",
    "\n",
    "# Function to read data from a CSV file\n",
    "def read_csv(file_path):\n",
    "    try:\n",
    "        df = pd.read_csv(file_path)\n",
    "        print(\"File read successfully.\")\n",
    "        return df\n",
    "    except FileNotFoundError:\n",
    "        print(f\"Error: The file at {file_path} was not found.\")\n",
    "        return None\n",
    "   \n",
    "\n",
    "# Function to perform basic statistical analysis\n",
    "def analyze_data(df):\n",
    "    if df is not None:\n",
    "        numeric_df = df.select_dtypes(include=[np.number])\n",
    "        analysis = {\n",
    "            'mean': numeric_df.mean(),\n",
    "            'median': numeric_df.median(),\n",
    "            'std_dev': numeric_df.std()\n",
    "        }\n",
    "        analysis_df = pd.DataFrame(analysis)\n",
    "        print(\"Analysis performed successfully.\")\n",
    "        return analysis_df\n",
    "    else:\n",
    "        print(\"No data to analyze.\")\n",
    "        return None\n",
    "\n",
    "# Function to save the analysis results to a new CSV file\n",
    "def save_to_csv(df, file_path):\n",
    "    if df is not None:\n",
    "        try:\n",
    "            df.to_csv(file_path, index=False)\n",
    "            print(f\"Analysis results saved to {file_path}\")\n",
    "        except Exception as e:\n",
    "            print(f\"Error: Could not save the file at {file_path}. Exception: {e}\")\n",
    "\n",
    "# Main script\n",
    "if __name__ == \"__main__\":\n",
    "    input_file = r\"C:\\Users\\USER\\OneDrive\\Documents\\NewBlackFriday.csv\"  # Path to the input CSV file\n",
    "    output_file = r\"C:\\Users\\USER\\OneDrive\\Documents\\analysis_results.csv\"  # Path to the output CSV file\n",
    "\n",
    "    # Reading data\n",
    "    data = read_csv(input_file)\n",
    "\n",
    "    # Performing analysis\n",
    "    analysis_results = analyze_data(data)\n",
    "\n",
    "    # Saving results\n",
    "    save_to_csv(analysis_results, output_file)\n"
   ]
  },
  {
   "cell_type": "code",
   "execution_count": 20,
   "id": "b7cc1d21-3f49-49f3-8f90-aaba0769a139",
   "metadata": {},
   "outputs": [
    {
     "data": {
      "text/html": [
       "<div>\n",
       "<style scoped>\n",
       "    .dataframe tbody tr th:only-of-type {\n",
       "        vertical-align: middle;\n",
       "    }\n",
       "\n",
       "    .dataframe tbody tr th {\n",
       "        vertical-align: top;\n",
       "    }\n",
       "\n",
       "    .dataframe thead th {\n",
       "        text-align: right;\n",
       "    }\n",
       "</style>\n",
       "<table border=\"1\" class=\"dataframe\">\n",
       "  <thead>\n",
       "    <tr style=\"text-align: right;\">\n",
       "      <th></th>\n",
       "      <th>mean</th>\n",
       "      <th>median</th>\n",
       "      <th>std_dev</th>\n",
       "    </tr>\n",
       "  </thead>\n",
       "  <tbody>\n",
       "    <tr>\n",
       "      <th>0</th>\n",
       "      <td>2.750335e+05</td>\n",
       "      <td>275033.5</td>\n",
       "      <td>158791.098273</td>\n",
       "    </tr>\n",
       "    <tr>\n",
       "      <th>1</th>\n",
       "      <td>1.003029e+06</td>\n",
       "      <td>1003077.0</td>\n",
       "      <td>1727.591586</td>\n",
       "    </tr>\n",
       "    <tr>\n",
       "      <th>2</th>\n",
       "      <td>8.076707e+00</td>\n",
       "      <td>7.0</td>\n",
       "      <td>6.522660</td>\n",
       "    </tr>\n",
       "    <tr>\n",
       "      <th>3</th>\n",
       "      <td>4.096530e-01</td>\n",
       "      <td>0.0</td>\n",
       "      <td>0.491770</td>\n",
       "    </tr>\n",
       "    <tr>\n",
       "      <th>4</th>\n",
       "      <td>5.404270e+00</td>\n",
       "      <td>5.0</td>\n",
       "      <td>3.936211</td>\n",
       "    </tr>\n",
       "    <tr>\n",
       "      <th>5</th>\n",
       "      <td>9.863190e+00</td>\n",
       "      <td>9.0</td>\n",
       "      <td>5.049456</td>\n",
       "    </tr>\n",
       "    <tr>\n",
       "      <th>6</th>\n",
       "      <td>1.265072e+01</td>\n",
       "      <td>14.0</td>\n",
       "      <td>4.115118</td>\n",
       "    </tr>\n",
       "    <tr>\n",
       "      <th>7</th>\n",
       "      <td>9.263969e+03</td>\n",
       "      <td>8047.0</td>\n",
       "      <td>5023.065394</td>\n",
       "    </tr>\n",
       "  </tbody>\n",
       "</table>\n",
       "</div>"
      ],
      "text/plain": [
       "           mean     median        std_dev\n",
       "0  2.750335e+05   275033.5  158791.098273\n",
       "1  1.003029e+06  1003077.0    1727.591586\n",
       "2  8.076707e+00        7.0       6.522660\n",
       "3  4.096530e-01        0.0       0.491770\n",
       "4  5.404270e+00        5.0       3.936211\n",
       "5  9.863190e+00        9.0       5.049456\n",
       "6  1.265072e+01       14.0       4.115118\n",
       "7  9.263969e+03     8047.0    5023.065394"
      ]
     },
     "execution_count": 20,
     "metadata": {},
     "output_type": "execute_result"
    }
   ],
   "source": [
    "import pandas as pd \n",
    "import numpy as np \n",
    "\n",
    "data = pd.read_csv(r\"C:\\Users\\USER\\OneDrive\\Documents\\analysis_results.csv\")\n",
    "data"
   ]
  },
  {
   "cell_type": "markdown",
   "id": "63c659eb-03ca-4a6e-8869-5827bd0014cc",
   "metadata": {},
   "source": [
    "### ARRAY OPERATIONS ( DAY 10) "
   ]
  },
  {
   "cell_type": "code",
   "execution_count": 1,
   "id": "a889572c-f5db-4b45-8a2c-808b2f49e2d2",
   "metadata": {},
   "outputs": [],
   "source": [
    "# Import numpy library \n",
    "import numpy as np"
   ]
  },
  {
   "cell_type": "code",
   "execution_count": 3,
   "id": "9f1db732-6660-4a45-9032-56d7bc091f7b",
   "metadata": {},
   "outputs": [
    {
     "name": "stdout",
     "output_type": "stream",
     "text": [
      "[11 22 33 44 55]\n",
      "[ -9 -18 -27 -36 -45]\n",
      "[ 10  40  90 160 250]\n",
      "[0.1 0.1 0.1 0.1 0.1]\n"
     ]
    }
   ],
   "source": [
    "# Create Numpy Arrays \n",
    "array1 = np.array([1, 2, 3, 4, 5])\n",
    "array2 = np.array([10, 20, 30, 40, 50])\n",
    "\n",
    "# Basic arithmetic operations\n",
    "add_result = array1 + array2\n",
    "subtract_result = array1 - array2\n",
    "multiply_result = array1 * array2\n",
    "divide_result = array1 / array2\n",
    "\n",
    "\n",
    "print(add_result)\n",
    "print(subtract_result)\n",
    "print(multiply_result)\n",
    "print(divide_result)"
   ]
  },
  {
   "cell_type": "code",
   "execution_count": 11,
   "id": "01607354-561f-4a6b-8151-297d6caebb34",
   "metadata": {},
   "outputs": [
    {
     "data": {
      "text/plain": [
       "(5,)"
      ]
     },
     "execution_count": 11,
     "metadata": {},
     "output_type": "execute_result"
    }
   ],
   "source": [
    "# Checking the shape of the array \n",
    "array1.shape\n",
    "array2.shape"
   ]
  },
  {
   "cell_type": "code",
   "execution_count": 8,
   "id": "f4d802c3-81c0-4842-bf96-6db30a4e5236",
   "metadata": {},
   "outputs": [
    {
     "name": "stdout",
     "output_type": "stream",
     "text": [
      "15\n",
      "3.0\n",
      "5\n"
     ]
    }
   ],
   "source": [
    "# Aggregation functions on Array 1\n",
    "sum_result = np.sum(array1)\n",
    "mean_result = np.mean(array1)\n",
    "max_result = np.max(array1)\n",
    "\n",
    "print(sum_result)\n",
    "print(mean_result)\n",
    "print(max_result)"
   ]
  },
  {
   "cell_type": "code",
   "execution_count": 9,
   "id": "2cd4a800-9206-4ace-916e-cb4571835ea3",
   "metadata": {},
   "outputs": [
    {
     "name": "stdout",
     "output_type": "stream",
     "text": [
      "150\n",
      "30.0\n",
      "50\n"
     ]
    }
   ],
   "source": [
    "# Aggregation functions on Array 2\n",
    "sum_result = np.sum(array2)\n",
    "mean_result = np.mean(array2)\n",
    "max_result = np.max(array2)\n",
    "\n",
    "print(sum_result)\n",
    "print(mean_result)\n",
    "print(max_result)"
   ]
  },
  {
   "cell_type": "markdown",
   "id": "06e947bb-5842-4982-aaa2-99a6dd55a8f0",
   "metadata": {},
   "source": [
    "### NUMPY BOOLEAN ARRAY ( DAY 11 )"
   ]
  },
  {
   "cell_type": "code",
   "execution_count": 8,
   "id": "f281ef7b-e80e-4696-9d4e-be5e8dbf0c64",
   "metadata": {},
   "outputs": [
    {
     "name": "stdout",
     "output_type": "stream",
     "text": [
      "Boolean array: [False False False False False  True  True  True  True  True]\n",
      "Elements greater than 5: [ 6  7  8  9 10]\n",
      "Elements between 3 and 8 (AND): [4 5 6 7]\n",
      "Elements greater than 3 OR less than 8 (OR): [ 1  2  3  4  5  6  7  8  9 10]\n",
      "Elements NOT greater than 3 (NOT): [1 2 3]\n"
     ]
    }
   ],
   "source": [
    "# Import Numpy library \n",
    "import numpy as np\n",
    "\n",
    "# Create a sample NumPy array\n",
    "arr = np.array([1, 2, 3, 4, 5, 6, 7, 8, 9, 10])\n",
    "\n",
    "# Create a boolean array by applying a condition\n",
    "bool_arr = arr > 5\n",
    "\n",
    "print(\"Boolean array:\", bool_arr)\n",
    "\n",
    "# Use boolean indexing to select elements\n",
    "selected_elements = arr[bool_arr]\n",
    "print(\"Elements greater than 5:\", selected_elements)\n",
    "\n",
    "# Demonstrating boolean operations\n",
    "condition1 = arr > 3\n",
    "condition2 = arr < 8\n",
    "\n",
    "and_result = np.logical_and(condition1, condition2)\n",
    "print(\"Elements between 3 and 8 (AND):\", arr[and_result])\n",
    "\n",
    "or_result = np.logical_or(condition1, condition2)\n",
    "print(\"Elements greater than 3 OR less than 8 (OR):\", arr[or_result])\n",
    "\n",
    "not_result = np.logical_not(condition1)\n",
    "print(\"Elements NOT greater than 3 (NOT):\", arr[not_result])"
   ]
  },
  {
   "cell_type": "code",
   "execution_count": 9,
   "id": "bd30670a-159c-48ae-b9e5-ec478f6afc93",
   "metadata": {},
   "outputs": [
    {
     "name": "stdout",
     "output_type": "stream",
     "text": [
      "Elements greater than 5: [ 6  7  8  9 10]\n",
      "Even elements: [ 2  4  6  8 10]\n",
      "Elements greater than 5 and even: [ 6  8 10]\n",
      "Elements less than 3 or greater than 8: [ 1  2  9 10]\n",
      "Elements not greater than 5: [1 2 3 4 5]\n"
     ]
    }
   ],
   "source": [
    "# Import library (Example 2)\n",
    "import numpy as np\n",
    "\n",
    "# Create a NumPy array\n",
    "arr = np.array([1, 2, 3, 4, 5, 6, 7, 8, 9, 10])\n",
    "\n",
    "# Perform boolean indexing to select elements greater than 5\n",
    "greater_than_five = arr > 5\n",
    "\n",
    "# Perform boolean indexing to select even elements\n",
    "even_elements = arr % 2 == 0\n",
    "  \n",
    "# Combine conditions using logical AND: elements greater than 5 AND even\n",
    "greater_than_five_and_even = np.logical_and(arr > 5, arr % 2 == 0)\n",
    "\n",
    "# Combine conditions using logical OR: elements less than 3 OR greater than 8\n",
    "less_than_three_or_greater_than_eight = np.logical_or(arr < 3, arr > 8)\n",
    "\n",
    "# Use logical NOT: elements NOT greater than 5\n",
    "not_greater_than_five = np.logical_not(arr > 5)\n",
    "\n",
    "print(\"Elements greater than 5:\", arr[greater_than_five])\n",
    "print(\"Even elements:\", arr[even_elements])\n",
    "print(\"Elements greater than 5 and even:\", arr[greater_than_five_and_even]) \n",
    "print(\"Elements less than 3 or greater than 8:\", arr[less_than_three_or_greater_than_eight])\n",
    "print(\"Elements not greater than 5:\", arr[not_greater_than_five])   "
   ]
  },
  {
   "cell_type": "markdown",
   "id": "b4591ebe-a3d8-4d77-ba61-7bf7426dafe8",
   "metadata": {},
   "source": [
    "### Numpy Algebra and Size (DAY 12)"
   ]
  },
  {
   "cell_type": "code",
   "execution_count": 1,
   "id": "80f5ac80-eeb4-4741-8a26-e1f696d9bc07",
   "metadata": {},
   "outputs": [
    {
     "name": "stdout",
     "output_type": "stream",
     "text": [
      "Matrix A:\n",
      "[[1 2]\n",
      " [3 4]]\n",
      "\n",
      "Matrix B:\n",
      "[[5 6]\n",
      " [7 8]]\n",
      "\n",
      "Matrix C (A dot B):\n",
      "[[19 22]\n",
      " [43 50]]\n"
     ]
    }
   ],
   "source": [
    "# Matrix Multiplication using np.dot()\n",
    "\n",
    "import numpy as np\n",
    "\n",
    "# Define two matrices\n",
    "A = np.array([[1, 2], [3, 4]])\n",
    "B = np.array([[5, 6], [7, 8]])\n",
    "\n",
    "# Matrix multiplication\n",
    "C = np.dot(A, B)\n",
    "\n",
    "print(\"Matrix A:\")\n",
    "print(A)\n",
    "print(\"\\nMatrix B:\")\n",
    "print(B)\n",
    "print(\"\\nMatrix C (A dot B):\")\n",
    "print(C)"
   ]
  },
  {
   "cell_type": "code",
   "execution_count": 2,
   "id": "47c18e3b-c109-4142-a815-b7848472a145",
   "metadata": {},
   "outputs": [
    {
     "name": "stdout",
     "output_type": "stream",
     "text": [
      "\n",
      "Original Array A:\n",
      "[[1 2 3]\n",
      " [4 5 6]]\n",
      "\n",
      "Resized Array A_resized (3x4):\n",
      "[[1 2 3 4]\n",
      " [5 6 1 2]\n",
      " [3 4 5 6]]\n"
     ]
    }
   ],
   "source": [
    "# Array Resizing using np.resize()\n",
    "\n",
    "# Define an array\n",
    "A = np.array([[1, 2, 3], [4, 5, 6]])\n",
    "\n",
    "# Resize the array to a new shape (3, 4)\n",
    "A_resized = np.resize(A, (3, 4))\n",
    "\n",
    "print(\"\\nOriginal Array A:\")\n",
    "print(A)\n",
    "print(\"\\nResized Array A_resized (3x4):\")\n",
    "print(A_resized)"
   ]
  },
  {
   "cell_type": "code",
   "execution_count": 3,
   "id": "b974f90d-5b59-47e4-ac5d-ec1c1d0b38a4",
   "metadata": {},
   "outputs": [
    {
     "name": "stdout",
     "output_type": "stream",
     "text": [
      "\n",
      "Original Array B:\n",
      "[[1 2 3]\n",
      " [4 5 6]]\n",
      "\n",
      "Reshaped Array B_reshaped (3x2):\n",
      "[[1 2]\n",
      " [3 4]\n",
      " [5 6]]\n"
     ]
    }
   ],
   "source": [
    "# Array Reshaping using np.reshape()\n",
    "\n",
    "# Define an array\n",
    "B = np.array([[1, 2, 3], [4, 5, 6]])\n",
    "\n",
    "# Reshape the array to a new shape (3, 2)\n",
    "B_reshaped = B.reshape((3, 2))\n",
    "\n",
    "print(\"\\nOriginal Array B:\")\n",
    "print(B)\n",
    "print(\"\\nReshaped Array B_reshaped (3x2):\")\n",
    "print(B_reshaped)"
   ]
  },
  {
   "cell_type": "markdown",
   "id": "19bb62ca-769c-4cce-bea2-2eb647b27e97",
   "metadata": {},
   "source": [
    "### PANDA SERIES ( DAY 13) "
   ]
  },
  {
   "cell_type": "code",
   "execution_count": 2,
   "id": "8f5c5310-5a80-403b-b5b2-06246c162fb3",
   "metadata": {},
   "outputs": [
    {
     "name": "stdout",
     "output_type": "stream",
     "text": [
      "Pandas Series from List:\n",
      "a    10\n",
      "b    20\n",
      "c    30\n",
      "d    40\n",
      "e    50\n",
      "dtype: int64\n",
      "\n",
      "Accessing elements:\n",
      "Element at index 'a': 10\n",
      "Element at index 'c': 30\n",
      "\n",
      "Slicing the Series:\n",
      "Slicing from index 'b' to 'd':\n",
      "b    20\n",
      "c    30\n",
      "d    40\n",
      "dtype: int64\n",
      "\n",
      "Basic operations on Series:\n",
      "Series after adding 5 to each element:\n",
      "a    15\n",
      "b    25\n",
      "c    35\n",
      "d    45\n",
      "e    55\n",
      "dtype: int64\n",
      "Series after multiplying each element by 2:\n",
      "a     20\n",
      "b     40\n",
      "c     60\n",
      "d     80\n",
      "e    100\n",
      "dtype: int64\n",
      "Mean of the Series: 30.0\n",
      "Sum of the Series: 150\n"
     ]
    }
   ],
   "source": [
    "# Import pandas library\n",
    "import pandas as pd\n",
    "\n",
    "# Creating a Pandas Series from a Python list\n",
    "data_list = [10, 20, 30, 40, 50]\n",
    "series_from_list = pd.Series(data_list, index=['a', 'b', 'c', 'd', 'e'])\n",
    "\n",
    "print(\"Pandas Series from List:\")\n",
    "print(series_from_list)\n",
    "\n",
    "# Accessing elements in the Series\n",
    "print(\"\\nAccessing elements:\")\n",
    "print(\"Element at index 'a':\", series_from_list['a'])\n",
    "print(\"Element at index 'c':\", series_from_list['c'])\n",
    "\n",
    "# Slicing the Series\n",
    "print(\"\\nSlicing the Series:\")\n",
    "print(\"Slicing from index 'b' to 'd':\")\n",
    "print(series_from_list['b':'d'])\n",
    "\n",
    "# Basic operations on Series\n",
    "print(\"\\nBasic operations on Series:\")\n",
    "print(\"Series after adding 5 to each element:\")\n",
    "print(series_from_list + 5)\n",
    "print(\"Series after multiplying each element by 2:\")\n",
    "print(series_from_list * 2)\n",
    "print(\"Mean of the Series:\", series_from_list.mean())\n",
    "print(\"Sum of the Series:\", series_from_list.sum())"
   ]
  },
  {
   "cell_type": "markdown",
   "id": "0bd6b5c1-c4d7-476e-828f-a85e8c8bed81",
   "metadata": {},
   "source": [
    "### Pandas DataFrames ( DAY 14 )"
   ]
  },
  {
   "cell_type": "code",
   "execution_count": 2,
   "id": "dca55af2-e6d5-466a-b843-874a8f02a807",
   "metadata": {},
   "outputs": [
    {
     "name": "stdout",
     "output_type": "stream",
     "text": [
      "DataFrame from dictionary:\n",
      "       Name  Age         City\n",
      "0    Angela   24     New York\n",
      "1    Bianca   27  Los Angeles\n",
      "2  Meredith   22      Chicago\n",
      "3     Derek   32      Houston\n",
      "\n",
      "DataFrame from CSV file:\n",
      "       Name  Age         City\n",
      "0    Angela   24     New York\n",
      "1    Bianca   27  Los Angeles\n",
      "2  Meredith   22      Chicago\n",
      "3     Derek   32      Houston\n",
      "\n",
      "Selected columns (Name and City):\n",
      "       Name         City\n",
      "0    Angela     New York\n",
      "1    Bianca  Los Angeles\n",
      "2  Meredith      Chicago\n",
      "3     Derek      Houston\n",
      "\n",
      "Filtered rows where Age > 25:\n",
      "     Name  Age         City\n",
      "1  Bianca   27  Los Angeles\n",
      "3   Derek   32      Houston\n",
      "\n",
      "DataFrame with new column 'AgeGroup':\n",
      "       Name  Age         City AgeGroup\n",
      "0    Angela   24     New York    Young\n",
      "1    Bianca   27  Los Angeles    Young\n",
      "2  Meredith   22      Chicago    Young\n",
      "3     Derek   32      Houston   Mature\n"
     ]
    }
   ],
   "source": [
    "import pandas as pd\n",
    "\n",
    "# Creating a data frame from a dictionary\n",
    "data = {\n",
    "    'Name': ['Angela', 'Bianca', 'Meredith', 'Derek'],\n",
    "    'Age': [24, 27, 22, 32],\n",
    "    'City': ['New York', 'Los Angeles', 'Chicago', 'Houston']\n",
    "}\n",
    "\n",
    "df_dict = pd.DataFrame(data)\n",
    "print(\"DataFrame from dictionary:\")\n",
    "print(df_dict)\n",
    "\n",
    "# Save the DataFrame to a CSV file for demonstration purposes\n",
    "df_dict.to_csv('example.csv', index=False)\n",
    "\n",
    "# Creating a DataFrame from a CSV file\n",
    "df_csv = pd.read_csv('example.csv')\n",
    "print(\"\\nDataFrame from CSV file:\")\n",
    "print(df_csv)\n",
    "\n",
    "# Selecting columns\n",
    "selected_columns = df_csv[['Name', 'City']]\n",
    "print(\"\\nSelected columns (Name and City):\")\n",
    "print(selected_columns)\n",
    "\n",
    "# Filtering rows where Age is greater than 25\n",
    "filtered_rows = df_csv[df_csv['Age'] > 25]\n",
    "print(\"\\nFiltered rows where Age > 25:\")\n",
    "print(filtered_rows)\n",
    "\n",
    "# Adding a new column 'AgeGroup'\n",
    "df_csv['AgeGroup'] = df_csv['Age'].apply(lambda x: 'Young' if x < 30 else 'Mature')\n",
    "print(\"\\nDataFrame with new column 'AgeGroup':\")\n",
    "print(df_csv)"
   ]
  },
  {
   "cell_type": "markdown",
   "id": "87adf246-b727-4ecf-ae21-7846604c44a2",
   "metadata": {},
   "source": [
    "### INDEXING AND CONDITIONALS ( DAY 15 )"
   ]
  },
  {
   "cell_type": "code",
   "execution_count": 2,
   "id": "81772b67-865e-4485-8b75-63883c49d021",
   "metadata": {},
   "outputs": [
    {
     "name": "stdout",
     "output_type": "stream",
     "text": [
      "Original DataFrame:\n",
      "       Name  Age         City  Score\n",
      "0    Angela   24     New York     85\n",
      "1    Bianca   27  Los Angeles     90\n",
      "2  Meredith   22      Chicago     88\n",
      "3     Derek   32      Houston     92\n",
      "\n",
      "Using .loc[] to select specific rows and columns by label:\n",
      "       Name         City\n",
      "1    Bianca  Los Angeles\n",
      "2  Meredith      Chicago\n",
      "\n",
      "Using .iloc[] to select specific rows and columns by position:\n",
      "       Name  Age\n",
      "0    Angela   24\n",
      "1    Bianca   27\n",
      "2  Meredith   22\n"
     ]
    }
   ],
   "source": [
    "import pandas as pd\n",
    "\n",
    "# Sample data\n",
    "data = {\n",
    "    'Name': ['Angela', 'Bianca', 'Meredith', 'Derek'],\n",
    "    'Age': [24, 27, 22, 32],\n",
    "    'City': ['New York', 'Los Angeles', 'Chicago', 'Houston'],\n",
    "    'Score': [85, 90, 88, 92]\n",
    "}\n",
    "\n",
    "# Create DataFrame\n",
    "df = pd.DataFrame(data)\n",
    "print(\"Original DataFrame:\")\n",
    "print(df)\n",
    "\n",
    "# Using .loc[] to select rows and columns by label\n",
    "print(\"\\nUsing .loc[] to select specific rows and columns by label:\")\n",
    "\n",
    "# Select rows with index 1 and 2, and columns 'Name' and 'City'\n",
    "print(df.loc[1:2, ['Name', 'City']])\n",
    "\n",
    "# Using .iloc[] to select rows and columns by position\n",
    "print(\"\\nUsing .iloc[] to select specific rows and columns by position:\")\n",
    "# Select first 3 rows and first 2 columns\n",
    "print(df.iloc[0:3, 0:2])"
   ]
  },
  {
   "cell_type": "code",
   "execution_count": 3,
   "id": "fc84f873-41b1-436d-b88b-281d0ef436a4",
   "metadata": {},
   "outputs": [
    {
     "name": "stdout",
     "output_type": "stream",
     "text": [
      "\n",
      "Filtering rows where Age is greater than 25:\n",
      "     Name  Age         City  Score\n",
      "1  Bianca   27  Los Angeles     90\n",
      "3   Derek   32      Houston     92\n",
      "\n",
      "Filtering rows where City is 'Chicago' or 'Houston':\n",
      "       Name  Age     City  Score\n",
      "2  Meredith   22  Chicago     88\n",
      "3     Derek   32  Houston     92\n",
      "\n",
      "Filtering rows where Score is above 85 and Age is less than 30:\n",
      "       Name  Age         City  Score\n",
      "1    Bianca   27  Los Angeles     90\n",
      "2  Meredith   22      Chicago     88\n"
     ]
    }
   ],
   "source": [
    "# Conditional operations to filter rows based on specific criteria\n",
    "print(\"\\nFiltering rows where Age is greater than 25:\")\n",
    "age_filter = df['Age'] > 25\n",
    "print(df.loc[age_filter])\n",
    "\n",
    "print(\"\\nFiltering rows where City is 'Chicago' or 'Houston':\")\n",
    "city_filter = df['City'].isin(['Chicago', 'Houston'])\n",
    "print(df.loc[city_filter])\n",
    "\n",
    "print(\"\\nFiltering rows where Score is above 85 and Age is less than 30:\")\n",
    "score_age_filter = (df['Score'] > 85) & (df['Age'] < 30)\n",
    "print(df.loc[score_age_filter])"
   ]
  },
  {
   "cell_type": "code",
   "execution_count": null,
   "id": "1e99a04a-afe5-4620-9c92-ba578db51762",
   "metadata": {},
   "outputs": [],
   "source": []
  }
 ],
 "metadata": {
  "kernelspec": {
   "display_name": "Python 3 (ipykernel)",
   "language": "python",
   "name": "python3"
  },
  "language_info": {
   "codemirror_mode": {
    "name": "ipython",
    "version": 3
   },
   "file_extension": ".py",
   "mimetype": "text/x-python",
   "name": "python",
   "nbconvert_exporter": "python",
   "pygments_lexer": "ipython3",
   "version": "3.11.7"
  }
 },
 "nbformat": 4,
 "nbformat_minor": 5
}
